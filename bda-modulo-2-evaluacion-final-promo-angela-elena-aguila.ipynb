{
 "cells": [
  {
   "cell_type": "markdown",
   "metadata": {},
   "source": [
    "# Evaluación Final Módulo 3"
   ]
  },
  {
   "cell_type": "markdown",
   "metadata": {},
   "source": [
    "## Fase 1: Exploración y Limpieza"
   ]
  },
  {
   "cell_type": "markdown",
   "metadata": {},
   "source": [
    "### 1. Exploración Inicial:\n",
    "\n",
    "- Realiza una exploración inicial de los datos para identificarposibles problemas, como valores nulos, atípicos o datosfaltantes en las columnas relevantes.\n",
    "\n",
    "- Utiliza funciones de Pandas para obtener informaciónsobre la estructura de los datos, la presencia de valoresnulos y estadísticas básicas de las columnas involucradas.\n",
    "\n",
    "- Une los dos conjuntos de datos de la forma más eficiente."
   ]
  },
  {
   "cell_type": "markdown",
   "metadata": {},
   "source": [
    "### 2. Limpieza de Datos:\n",
    "\n",
    "- Elimina o trata los valores nulos, si los hay, en lascolumnas clave para asegurar que los datos esténcompletos.\n",
    "\n",
    "- Verifica la consistencia y corrección de los datos paraasegurarte de que los datos se presenten de formacoherente.\n",
    "\n",
    "- Realiza cualquier ajuste o conversión necesaria en lascolumnas (por ejemplo, cambiar tipos de datos) paragarantizar la adecuación de los datos para el análisisestadístico."
   ]
  },
  {
   "cell_type": "markdown",
   "metadata": {},
   "source": [
    "## Fase 2: Visualización"
   ]
  },
  {
   "cell_type": "markdown",
   "metadata": {},
   "source": [
    "Usando las herramientas de visualización que has aprendido duranteeste módulo, contesta a las siguientes gráficas usando la mejor gráficaque consideres:\n",
    "\n",
    "**1. ¿Cómo se distribuye la cantidad de vuelos reservados pormes durante el año?**\n",
    "\n",
    "**2. ¿Existe una relación entre la distancia de los vuelos y lospuntos acumulados por los clientes?**\n",
    "\n",
    "**3. ¿Cuál es la distribución de los clientes por provincia oestado?**\n",
    "\n",
    "**4. ¿Cómo se compara el salario promedio entre los diferentesniveles educativos de los clientes?**\n",
    "\n",
    "**5. ¿Cuál es la proporción de clientes con diferentes tipos detarjetas de fidelidad?**\n",
    "\n",
    "**6. ¿Cómo se distribuyen los clientes según su estado civil y género?**"
   ]
  },
  {
   "cell_type": "markdown",
   "metadata": {},
   "source": [
    "## Fase 3: Evaluación de Diferencias en Reservas de Vuelos por NivelEducativo"
   ]
  },
  {
   "cell_type": "markdown",
   "metadata": {},
   "source": [
    "** Objetivo del Ejercicio:** Utilizando un conjunto de datos que hemoscompartido, se busca evaluar si existen diferencias significativas en elnúmero de vuelos reservados según el nivel educativo de los clientes.Para ello, los pasos que deberas seguir son:\n",
    "\n",
    "**1. Preparación de Datos:**\n",
    "\n",
    "- Filtra el conjunto de datos para incluir únicamente lascolumnas relevantes: 'Flights Booked' y 'Education'.\n",
    "\n",
    "**2. Análisis Descriptivo:**\n",
    "\n",
    "- Agrupa los datos por nivel educativo y calcula estadísticasdescriptivas básicas (como el promedio, la desviaciónestandar, los percentiles) del número de vuelos reservadospara cada grupo.\n",
    "\n",
    "**3. Prueba Estadística:**\n",
    "\n",
    "- Realiza una prueba de hipótesis para determinar si existeuna diferencia significativa en el número de vuelosreservados entre los diferentes niveles educativos."
   ]
  }
 ],
 "metadata": {
  "kernelspec": {
   "display_name": "base",
   "language": "python",
   "name": "python3"
  },
  "language_info": {
   "codemirror_mode": {
    "name": "ipython",
    "version": 3
   },
   "file_extension": ".py",
   "mimetype": "text/x-python",
   "name": "python",
   "nbconvert_exporter": "python",
   "pygments_lexer": "ipython3",
   "version": "3.11.5"
  }
 },
 "nbformat": 4,
 "nbformat_minor": 2
}
